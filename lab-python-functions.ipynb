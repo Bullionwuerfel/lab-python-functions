{
  "cells": [
    {
      "cell_type": "code",
      "source": [
        "def initialize_inventory(products):\n",
        "  invdict={}\n",
        "\n",
        "  for i in products:\n",
        "    invdict[i]=int(input(f\"Please add the quantity of {i} available\") )\n",
        "  return invdict\n",
        "\n",
        "def get_customer_orders():\n",
        "  more=\"y\"\n",
        "  orders=set()\n",
        "  while more==\"y\":\n",
        "    new=input(\"Please enter the name of a product you would like to order: \")\n",
        "    orders.add(new)\n",
        "    more=(input(\"Do you want to add another item? y/n\"))\n",
        "  return orders\n",
        "def update_inventory(customer_orders,inventory):\n",
        "  for i in customer_orders:\n",
        "    if inventory[i]>=0:\n",
        "      inventory[i]-=1\n",
        "  return inventory\n",
        "def calculate_order_statistics(customer_orders,products):\n",
        "  TPO=len(customer_orders)\n",
        "  PUPO=(len(customer_orders)*100//len(products))\n",
        "  print(str(TPO) + \" total products ordered\")\n",
        "  print(str(PUPO) + \" percent of unique products ordered\")\n",
        "  return TPO,PUPO\n",
        "def print_updated_inventory(inventory):\n",
        "  for i in inventory:\n",
        "    print(i)\n",
        "    print(inventory[i])\n",
        "\n",
        "products=[\"hat\",\"mug\",\"t-shirt\",\"book\",\"keychain\"]\n",
        "\n",
        "inventory=initialize_inventory(products)\n",
        "\n",
        "orders=get_customer_orders()\n",
        "\n",
        "update_inventory(orders,inventory)\n",
        "\n",
        "calculate_order_statistics(orders,products)\n",
        "\n",
        "print_updated_inventory(inventory)\n",
        "\n"
      ],
      "metadata": {
        "colab": {
          "base_uri": "https://localhost:8080/"
        },
        "id": "9F97i42D7Jvw",
        "outputId": "917ec5f9-1e26-4270-e02f-8fd91cfa9e10"
      },
      "id": "9F97i42D7Jvw",
      "execution_count": 8,
      "outputs": [
        {
          "output_type": "stream",
          "name": "stdout",
          "text": [
            "Please add the quantity of hat available3\n",
            "Please add the quantity of mug available3\n",
            "Please add the quantity of t-shirt available3\n",
            "Please add the quantity of book available3\n",
            "Please add the quantity of keychain available3\n",
            "Please enter the name of a product you would like to order: hat\n",
            "Do you want to add another item? y/nn\n",
            "1 total products ordered\n",
            "20 percent of unique products ordered\n",
            "hat\n",
            "2\n",
            "mug\n",
            "3\n",
            "t-shirt\n",
            "3\n",
            "book\n",
            "3\n",
            "keychain\n",
            "3\n"
          ]
        }
      ]
    },
    {
      "cell_type": "markdown",
      "id": "25d7736c-ba17-4aff-b6bb-66eba20fbf4e",
      "metadata": {
        "id": "25d7736c-ba17-4aff-b6bb-66eba20fbf4e"
      },
      "source": [
        "# Lab | Functions"
      ]
    },
    {
      "cell_type": "markdown",
      "id": "0c581062-8967-4d93-b06e-62833222f930",
      "metadata": {
        "tags": [],
        "id": "0c581062-8967-4d93-b06e-62833222f930"
      },
      "source": [
        "## Exercise: Managing Customer Orders with Functions\n",
        "\n",
        "In the previous exercise, you improved the code for managing customer orders by using loops and flow control. Now, let's take it a step further and refactor the code by introducing functions.\n",
        "\n",
        "Follow the steps below to complete the exercise:\n",
        "\n",
        "1. Define a function named `initialize_inventory` that takes `products` as a parameter. Inside the function, implement the code for initializing the inventory dictionary using a loop and user input.\n",
        "\n",
        "2. Define a function named `get_customer_orders` that takes no parameters. Inside the function, implement the code for prompting the user to enter the product names using a loop. The function should return the `customer_orders` set.\n",
        "\n",
        "3. Define a function named `update_inventory` that takes `customer_orders` and `inventory` as parameters. Inside the function, implement the code for updating the inventory dictionary based on the customer orders.\n",
        "\n",
        "4. Define a function named `calculate_order_statistics` that takes `customer_orders` and `products` as parameters. Inside the function, implement the code for calculating the order statistics (total products ordered, and percentage of unique products ordered). The function should return these values.\n",
        "\n",
        "5. Define a function named `print_order_statistics` that takes `order_statistics` as a parameter. Inside the function, implement the code for printing the order statistics.\n",
        "\n",
        "6. Define a function named `print_updated_inventory` that takes `inventory` as a parameter. Inside the function, implement the code for printing the updated inventory.\n",
        "\n",
        "7. Call the functions in the appropriate sequence to execute the program and manage customer orders.\n",
        "\n",
        "Hints for functions:\n",
        "\n",
        "- Consider the input parameters required for each function and their return values.\n",
        "- Utilize function parameters and return values to transfer data between functions.\n",
        "- Test your functions individually to ensure they work correctly.\n",
        "\n",
        "\n"
      ]
    }
  ],
  "metadata": {
    "kernelspec": {
      "display_name": "Python 3 (ipykernel)",
      "language": "python",
      "name": "python3"
    },
    "language_info": {
      "codemirror_mode": {
        "name": "ipython",
        "version": 3
      },
      "file_extension": ".py",
      "mimetype": "text/x-python",
      "name": "python",
      "nbconvert_exporter": "python",
      "pygments_lexer": "ipython3",
      "version": "3.9.13"
    },
    "colab": {
      "provenance": []
    }
  },
  "nbformat": 4,
  "nbformat_minor": 5
}